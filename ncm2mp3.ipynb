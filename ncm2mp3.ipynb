{
 "cells": [
  {
   "cell_type": "code",
   "execution_count": null,
   "metadata": {},
   "outputs": [],
   "source": [
    "import binascii\n",
    "import struct\n",
    "import base64\n",
    "import json\n",
    "import os\n",
    "import sys\n",
    "# pip install pycrypto\n",
    "from Crypto.Cipher import AES"
   ]
  },
  {
   "cell_type": "code",
   "execution_count": null,
   "metadata": {},
   "outputs": [],
   "source": [
    "def dump(file_path, mp3dir):\n",
    "    core_key = binascii.a2b_hex(\"687A4852416D736F356B496E62617857\")\n",
    "    meta_key = binascii.a2b_hex(\"2331346C6A6B5F215C5D2630553C2728\")\n",
    "    unpad = lambda s : s[0:-(s[-1] if type(s[-1]) == int else ord(s[-1]))]  \n",
    "    f = open(file_path, 'rb')\n",
    "    header = f.read(8)\n",
    "    assert binascii.b2a_hex(header) == b'4354454e4644414d'\n",
    "    f.seek(2, 1)\n",
    "    key_length = f.read(4)\n",
    "    key_length = struct.unpack('<I', bytes(key_length))[0]\n",
    "    key_data = f.read(key_length)\n",
    "    key_data_array = bytearray(key_data)\n",
    "    for i in range (0,len(key_data_array)): key_data_array[i] ^= 0x64\n",
    "    key_data = bytes(key_data_array)\n",
    "    cryptor = AES.new(core_key, AES.MODE_ECB)\n",
    "    key_data = unpad(cryptor.decrypt(key_data))[17:]\n",
    "    key_length = len(key_data)\n",
    "    key_data = bytearray(key_data)\n",
    "    key_box = bytearray(range(256))\n",
    "    c = 0\n",
    "    last_byte = 0\n",
    "    key_offset = 0\n",
    "    for i in range(256):\n",
    "        swap = key_box[i]\n",
    "        c = (swap + last_byte + key_data[key_offset]) & 0xff\n",
    "        key_offset += 1\n",
    "        if key_offset >= key_length: key_offset = 0\n",
    "        key_box[i] = key_box[c]\n",
    "        key_box[c] = swap\n",
    "        last_byte = c\n",
    "    meta_length = f.read(4)\n",
    "    meta_length = struct.unpack('<I', bytes(meta_length))[0]\n",
    "    meta_data = f.read(meta_length)\n",
    "    meta_data_array = bytearray(meta_data)\n",
    "    for i in range(0,len(meta_data_array)): meta_data_array[i] ^= 0x63\n",
    "    meta_data = bytes(meta_data_array)\n",
    "    meta_data = base64.b64decode(meta_data[22:])\n",
    "    cryptor = AES.new(meta_key, AES.MODE_ECB)\n",
    "    meta_data = unpad(cryptor.decrypt(meta_data)).decode('utf-8')[6:]\n",
    "    meta_data = json.loads(meta_data)\n",
    "    crc32 = f.read(4)\n",
    "    crc32 = struct.unpack('<I', bytes(crc32))[0]\n",
    "    f.seek(5, 1)\n",
    "    image_size = f.read(4)\n",
    "    image_size = struct.unpack('<I', bytes(image_size))[0]\n",
    "    image_data = f.read(image_size)\n",
    "    file_name = meta_data['musicName'] + ' - ' + meta_data['artist'][0][0] + '.' + meta_data['format']\n",
    "    m = open(os.path.join(os.path.split(mp3dir)[0],file_name),'wb')\n",
    "    chunk = bytearray()\n",
    "    while True:\n",
    "        chunk = bytearray(f.read(0x8000))\n",
    "        chunk_length = len(chunk)\n",
    "        if not chunk:\n",
    "            break\n",
    "        for i in range(1,chunk_length+1):\n",
    "            j = i & 0xff;\n",
    "            chunk[i-1] ^= key_box[(key_box[j] + key_box[(key_box[j] + j) & 0xff]) & 0xff]\n",
    "        m.write(chunk)\n",
    "    m.close()\n",
    "    f.close()"
   ]
  },
  {
   "cell_type": "code",
   "execution_count": null,
   "metadata": {},
   "outputs": [],
   "source": [
    "# pwd\n",
    "ncmdir = '/Your/Path/To/ncmdir/'    #放ncm格式文件的目录\n",
    "mp3dir = '/Your/Path/To/mp3dir/'    #转成mp3格式后存放的目录"
   ]
  },
  {
   "cell_type": "code",
   "execution_count": null,
   "metadata": {},
   "outputs": [],
   "source": [
    "ncmlist = os.listdir(ncmdir)\n",
    "cnt_num = 0\n",
    "cnt_sum = 0\n",
    "for i in range(len(ncmlist)):\n",
    "    file_path = os.path.join(ncmdir, ncmlist[i])\n",
    "    if file_path.split('.')[-1] == 'ncm':\n",
    "        cnt_sum += 1\n",
    "        try:\n",
    "            dump(file_path, mp3dir)\n",
    "            cnt_num += 1\n",
    "        except:\n",
    "            print(\" 转换失败 : \" + file_path)\n",
    "print(\"共完成 \" + str(cnt_num) + \" 首，成功率: {:.2%}\".format(cnt_num/cnt_sum))"
   ]
  }
 ],
 "metadata": {
  "kernelspec": {
   "display_name": "Python 3",
   "language": "python",
   "name": "python3"
  },
  "language_info": {
   "codemirror_mode": {
    "name": "ipython",
    "version": 3
   },
   "file_extension": ".py",
   "mimetype": "text/x-python",
   "name": "python",
   "nbconvert_exporter": "python",
   "pygments_lexer": "ipython3",
   "version": "3.5.2"
  },
  "widgets": {
   "state": {},
   "version": "1.1.2"
  }
 },
 "nbformat": 4,
 "nbformat_minor": 2
}
